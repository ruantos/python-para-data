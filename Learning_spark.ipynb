{
  "nbformat": 4,
  "nbformat_minor": 0,
  "metadata": {
    "colab": {
      "provenance": [],
      "authorship_tag": "ABX9TyPH5KigSdJVciwmmGWxdsqN",
      "include_colab_link": true
    },
    "kernelspec": {
      "name": "python3",
      "display_name": "Python 3"
    },
    "language_info": {
      "name": "python"
    }
  },
  "cells": [
    {
      "cell_type": "markdown",
      "metadata": {
        "id": "view-in-github",
        "colab_type": "text"
      },
      "source": [
        "<a href=\"https://colab.research.google.com/github/ruantos/python-para-data/blob/main/Learning_spark.ipynb\" target=\"_parent\"><img src=\"https://colab.research.google.com/assets/colab-badge.svg\" alt=\"Open In Colab\"/></a>"
      ]
    },
    {
      "cell_type": "markdown",
      "source": [
        "## Installing the hard way"
      ],
      "metadata": {
        "id": "276uTBKhDhqC"
      }
    },
    {
      "cell_type": "markdown",
      "source": [
        "### Installing dependencies\n",
        "1. install java\n",
        "2. downloads spark tar\n",
        "3. unzip it\n",
        "4. pip install findspark\n"
      ],
      "metadata": {
        "id": "FSGbATn5DwY2"
      }
    },
    {
      "cell_type": "code",
      "source": [
        "!sudo apt update\n",
        "!apt-get install openjdk-8-jdk-headless -qq > /dev/null\n",
        "!wget -q http://archive.apache.org/dist/spark/spark-3.5.0/spark-3.5.0-bin-hadoop3.tgz\n",
        "!tar xf spark-3.5.0-bin-hadoop3.tgz\n",
        "!pip install -q findspark\n",
        "\n",
        "import os\n",
        "import findspark\n",
        "\n",
        "os.environ[\"JAVA_HOME\"] = \"/usr/lib/jvm/java-8-openjdk-amd64\"\n",
        "os.environ[\"SPARK_HOME\"] = \"/content/spark-3.5.0-bin-hadoop3\"\n",
        "\n",
        "findspark.init()\n"
      ],
      "metadata": {
        "id": "SalQfeU0AUVu",
        "colab": {
          "base_uri": "https://localhost:8080/"
        },
        "collapsed": true,
        "outputId": "f835d23e-6ff8-4251-9602-b4039f6615f5"
      },
      "execution_count": 1,
      "outputs": [
        {
          "output_type": "stream",
          "name": "stdout",
          "text": [
            "\u001b[33m\r0% [Working]\u001b[0m\r            \rGet:1 https://cloud.r-project.org/bin/linux/ubuntu jammy-cran40/ InRelease [3,632 B]\n",
            "\u001b[33m\r0% [Connecting to archive.ubuntu.com (185.125.190.81)] [Waiting for headers] [1\u001b[0m\r                                                                               \rHit:2 https://developer.download.nvidia.com/compute/cuda/repos/ubuntu2204/x86_64  InRelease\n",
            "Get:3 http://security.ubuntu.com/ubuntu jammy-security InRelease [129 kB]\n",
            "Hit:4 http://archive.ubuntu.com/ubuntu jammy InRelease\n",
            "Get:5 https://r2u.stat.illinois.edu/ubuntu jammy InRelease [6,555 B]\n",
            "Get:6 http://archive.ubuntu.com/ubuntu jammy-updates InRelease [128 kB]\n",
            "Get:7 https://r2u.stat.illinois.edu/ubuntu jammy/main all Packages [9,168 kB]\n",
            "Get:8 http://security.ubuntu.com/ubuntu jammy-security/restricted amd64 Packages [5,103 kB]\n",
            "Get:9 http://archive.ubuntu.com/ubuntu jammy-backports InRelease [127 kB]\n",
            "Get:10 http://archive.ubuntu.com/ubuntu jammy-updates/main amd64 Packages [3,518 kB]\n",
            "Get:11 http://security.ubuntu.com/ubuntu jammy-security/universe amd64 Packages [1,270 kB]\n",
            "Get:12 http://security.ubuntu.com/ubuntu jammy-security/main amd64 Packages [3,207 kB]\n",
            "Get:13 https://r2u.stat.illinois.edu/ubuntu jammy/main amd64 Packages [2,775 kB]\n",
            "Hit:14 https://ppa.launchpadcontent.net/deadsnakes/ppa/ubuntu jammy InRelease\n",
            "Hit:15 https://ppa.launchpadcontent.net/graphics-drivers/ppa/ubuntu jammy InRelease\n",
            "Hit:16 https://ppa.launchpadcontent.net/ubuntugis/ppa/ubuntu jammy InRelease\n",
            "Get:17 http://archive.ubuntu.com/ubuntu jammy-updates/universe amd64 Packages [1,575 kB]\n",
            "Get:18 http://archive.ubuntu.com/ubuntu jammy-updates/restricted amd64 Packages [5,290 kB]\n",
            "Fetched 32.3 MB in 4s (9,022 kB/s)\n",
            "Reading package lists... Done\n",
            "Building dependency tree... Done\n",
            "Reading state information... Done\n",
            "35 packages can be upgraded. Run 'apt list --upgradable' to see them.\n",
            "\u001b[1;33mW: \u001b[0mSkipping acquire of configured file 'main/source/Sources' as repository 'https://r2u.stat.illinois.edu/ubuntu jammy InRelease' does not seem to provide it (sources.list entry misspelt?)\u001b[0m\n"
          ]
        }
      ]
    },
    {
      "cell_type": "markdown",
      "source": [
        "### Setting environment variables"
      ],
      "metadata": {
        "id": "Pr2kiS9IEudL"
      }
    },
    {
      "cell_type": "code",
      "source": [
        "from pyspark.sql import SparkSession"
      ],
      "metadata": {
        "id": "dCL7K8hiEIlO"
      },
      "execution_count": 2,
      "outputs": []
    },
    {
      "cell_type": "code",
      "source": [
        "spark = SparkSession \\\n",
        "            .builder \\\n",
        "            .appName(\"Primeira Sessão\") \\\n",
        "            .getOrCreate()"
      ],
      "metadata": {
        "id": "VjI14ZhaAptv"
      },
      "execution_count": 3,
      "outputs": []
    },
    {
      "cell_type": "markdown",
      "source": [
        "## Mounting your google drive"
      ],
      "metadata": {
        "id": "fI0QZ8-wvPzS"
      }
    },
    {
      "cell_type": "code",
      "source": [
        "from google.colab import drive\n",
        "drive.mount(\"/content/drive\")"
      ],
      "metadata": {
        "colab": {
          "base_uri": "https://localhost:8080/"
        },
        "id": "yUqAg0lbQgcF",
        "outputId": "a97d29cc-9e37-468f-d851-853f3fdd20fa"
      },
      "execution_count": 4,
      "outputs": [
        {
          "output_type": "stream",
          "name": "stdout",
          "text": [
            "Mounted at /content/drive\n"
          ]
        }
      ]
    },
    {
      "cell_type": "markdown",
      "source": [
        "## Unziping files"
      ],
      "metadata": {
        "id": "lJmkjdWouZgS"
      }
    },
    {
      "cell_type": "code",
      "source": [
        "# import zipfile\n",
        "\n",
        "# zipfile \\\n",
        "#     .ZipFile('/content/drive/MyDrive/Colab Notebooks/Curso spark/empresas.zip', 'r') \\\n",
        "#     .extractall('/content/drive/MyDrive/Colab Notebooks/Curso spark/')\n",
        "\n",
        "# zipfile \\\n",
        "#     .ZipFile('/content/drive/MyDrive/Colab Notebooks/Curso spark/estabelecimentos.zip', 'r') \\\n",
        "#     .extractall('/content/drive/MyDrive/Colab Notebooks/Curso spark/')\n",
        "\n",
        "# zipfile \\\n",
        "#     .ZipFile('/content/drive/MyDrive/Colab Notebooks/Curso spark/socios.zip', 'r') \\\n",
        "#     .extractall('/content/drive/MyDrive/Colab Notebooks/Curso spark/')\n"
      ],
      "metadata": {
        "id": "XtrnbG9CSHLB"
      },
      "execution_count": 5,
      "outputs": []
    },
    {
      "cell_type": "markdown",
      "source": [
        "## Creating sparks dataframes"
      ],
      "metadata": {
        "id": "LE1UTeM0vKFB"
      }
    },
    {
      "cell_type": "code",
      "source": [
        "path = {\n",
        "    \"empresas\": \"/content/drive/MyDrive/Colab Notebooks/Curso spark/empresas\",\n",
        "    \"estabelecimentos\": \"/content/drive/MyDrive/Colab Notebooks/Curso spark/estabelecimentos.zip\",\n",
        "    \"socios\": \"/content/drive/MyDrive/Colab Notebooks/Curso spark/socios\"\n",
        "    }"
      ],
      "metadata": {
        "id": "Ds616rDyVyPT"
      },
      "execution_count": 6,
      "outputs": []
    },
    {
      "cell_type": "code",
      "source": [
        "empresas = spark.read.csv(path[\"empresas\"], sep=\";\", inferSchema=True)\n",
        "# estabelecimentos = spark.read.csv(path[\"estabelecimentos\"], sep=\";\", inferSchema=True)\n",
        "socios = spark.read.csv(path[\"socios\"], sep=\";\", inferSchema=True)"
      ],
      "metadata": {
        "id": "72PveETIWqiS"
      },
      "execution_count": 9,
      "outputs": []
    },
    {
      "cell_type": "markdown",
      "source": [
        "## Changing columns names"
      ],
      "metadata": {
        "id": "HowUKS9WvgH2"
      }
    },
    {
      "cell_type": "code",
      "source": [
        "empresas.limit(5).show()"
      ],
      "metadata": {
        "colab": {
          "base_uri": "https://localhost:8080/"
        },
        "id": "tmy1gLD3WwFY",
        "outputId": "5f44ee3b-8534-442f-ef3b-f7d4a769b82d"
      },
      "execution_count": 10,
      "outputs": [
        {
          "output_type": "stream",
          "name": "stdout",
          "text": [
            "+----+--------------------+----+---+-------+---+----+\n",
            "| _c0|                 _c1| _c2|_c3|    _c4|_c5| _c6|\n",
            "+----+--------------------+----+---+-------+---+----+\n",
            "| 306|FRANCAMAR REFRIGE...|2240| 49|   0,00|  1|NULL|\n",
            "|1355|BRASILEIRO & OLIV...|2062| 49|   0,00|  5|NULL|\n",
            "|4820|REGISTRO DE IMOVE...|3034| 32|   0,00|  5|NULL|\n",
            "|5347|ROSELY APARECIDA ...|2135| 50|   0,00|  5|NULL|\n",
            "|6846|BADU E FILHOS TEC...|2062| 49|4000,00|  1|NULL|\n",
            "+----+--------------------+----+---+-------+---+----+\n",
            "\n"
          ]
        }
      ]
    },
    {
      "cell_type": "code",
      "source": [
        "empresasColNames = ['cnpj_basico', 'razao_social_nome_empresarial', 'natureza_juridica', 'qualificacao_do_responsavel', 'capital_social_da_empresa', 'porte_da_empresa', 'ente_federativo_responsavel']\n",
        "estabsColNames = ['cnpj_basico', 'cnpj_ordem', 'cnpj_dv', 'identificador_matriz_filial', 'nome_fantasia', 'situacao_cadastral', 'data_situacao_cadastral', 'motivo_situacao_cadastral', 'nome_da_cidade_no_exterior', 'pais', 'data_de_inicio_atividade', 'cnae_fiscal_principal', 'cnae_fiscal_secundaria', 'tipo_de_logradouro', 'logradouro', 'numero', 'complemento', 'bairro', 'cep', 'uf', 'municipio', 'ddd_1', 'telefone_1', 'ddd_2', 'telefone_2', 'ddd_do_fax', 'fax', 'correio_eletronico', 'situacao_especial', 'data_da_situacao_especial']\n",
        "sociosColNames = ['cnpj_basico', 'identificador_de_socio', 'nome_do_socio_ou_razao_social', 'cnpj_ou_cpf_do_socio', 'qualificacao_do_socio', 'data_de_entrada_sociedade', 'pais', 'representante_legal', 'nome_do_representante', 'qualificacao_do_representante_legal', 'faixa_etaria']"
      ],
      "metadata": {
        "id": "zWa_vcNouPbk"
      },
      "execution_count": 11,
      "outputs": []
    },
    {
      "cell_type": "code",
      "source": [
        "def rename_col(df, col_names):\n",
        "    for index, name in enumerate(col_names):\n",
        "        # enumerate retorna uma tupla contendo\n",
        "        # o indice e cada valor no array\n",
        "\n",
        "        # params são o nome da coluna e o novo nome\n",
        "        df = df.withColumnRenamed(f\"_c{index}\", name)\n",
        "    return df"
      ],
      "metadata": {
        "id": "phZRPBPhwos7"
      },
      "execution_count": 12,
      "outputs": []
    },
    {
      "cell_type": "code",
      "source": [
        "# empresas = rename_col(empresas, empresasColNames)\n",
        "empresas = rename_col(empresas, empresasColNames)\n",
        "# estabelecimentos = rename_col(estabelecimentos, estabsColNames)\n",
        "socios = rename_col(socios, sociosColNames)"
      ],
      "metadata": {
        "id": "vWuhHL5bw8yc"
      },
      "execution_count": 14,
      "outputs": []
    },
    {
      "cell_type": "code",
      "source": [
        "empresas.limit(5).show()"
      ],
      "metadata": {
        "colab": {
          "base_uri": "https://localhost:8080/"
        },
        "id": "xflZWBjnxeNT",
        "outputId": "f95df897-be68-4230-ba31-f096828b4be6",
        "collapsed": true
      },
      "execution_count": 15,
      "outputs": [
        {
          "output_type": "stream",
          "name": "stdout",
          "text": [
            "+-----------+-----------------------------+-----------------+---------------------------+-------------------------+----------------+---------------------------+\n",
            "|cnpj_basico|razao_social_nome_empresarial|natureza_juridica|qualificacao_do_responsavel|capital_social_da_empresa|porte_da_empresa|ente_federativo_responsavel|\n",
            "+-----------+-----------------------------+-----------------+---------------------------+-------------------------+----------------+---------------------------+\n",
            "|        306|         FRANCAMAR REFRIGE...|             2240|                         49|                     0,00|               1|                       NULL|\n",
            "|       1355|         BRASILEIRO & OLIV...|             2062|                         49|                     0,00|               5|                       NULL|\n",
            "|       4820|         REGISTRO DE IMOVE...|             3034|                         32|                     0,00|               5|                       NULL|\n",
            "|       5347|         ROSELY APARECIDA ...|             2135|                         50|                     0,00|               5|                       NULL|\n",
            "|       6846|         BADU E FILHOS TEC...|             2062|                         49|                  4000,00|               1|                       NULL|\n",
            "+-----------+-----------------------------+-----------------+---------------------------+-------------------------+----------------+---------------------------+\n",
            "\n"
          ]
        }
      ]
    },
    {
      "cell_type": "code",
      "source": [
        "empresas.printSchema()"
      ],
      "metadata": {
        "colab": {
          "base_uri": "https://localhost:8080/"
        },
        "id": "ARUPlW6iywvK",
        "outputId": "a2881147-fd80-41fe-ebd3-5cd5c9b7a0c0",
        "collapsed": true
      },
      "execution_count": 16,
      "outputs": [
        {
          "output_type": "stream",
          "name": "stdout",
          "text": [
            "root\n",
            " |-- cnpj_basico: integer (nullable = true)\n",
            " |-- razao_social_nome_empresarial: string (nullable = true)\n",
            " |-- natureza_juridica: integer (nullable = true)\n",
            " |-- qualificacao_do_responsavel: integer (nullable = true)\n",
            " |-- capital_social_da_empresa: string (nullable = true)\n",
            " |-- porte_da_empresa: integer (nullable = true)\n",
            " |-- ente_federativo_responsavel: string (nullable = true)\n",
            "\n"
          ]
        }
      ]
    },
    {
      "cell_type": "markdown",
      "source": [
        "## Using replace and changing cols datatypes"
      ],
      "metadata": {
        "id": "yyGrt_8GwMu7"
      }
    },
    {
      "cell_type": "code",
      "source": [
        "from pyspark.sql.types import DecimalType, StringType, DoubleType\n",
        "from pyspark.sql import functions as f"
      ],
      "metadata": {
        "id": "7p7iJrF-y7TF"
      },
      "execution_count": 17,
      "outputs": []
    },
    {
      "cell_type": "code",
      "source": [
        "col = \"capital_social_da_empresa\"\n",
        "empresas = empresas.withColumn(col, f.regexp_replace(col, \",\", \".\"))"
      ],
      "metadata": {
        "id": "ZPUPaRUht4Pf"
      },
      "execution_count": 18,
      "outputs": []
    },
    {
      "cell_type": "code",
      "source": [
        "empresas = empresas.withColumn(col, empresas[col].cast(DoubleType()))"
      ],
      "metadata": {
        "id": "cGSfWopuvSiD"
      },
      "execution_count": 19,
      "outputs": []
    },
    {
      "cell_type": "markdown",
      "source": [
        "## Converting string to date"
      ],
      "metadata": {
        "id": "timL3kvVxWG4"
      }
    },
    {
      "cell_type": "code",
      "source": [
        "socios = socios.withColumn(\"data_de_entrada_sociedade\",\\\n",
        "           f.to_date(socios.data_de_entrada_sociedade.cast(StringType()), \"yyyyMMdd\"))\n",
        "# df.withColumn(col, f.to_date(df[col].cast(old_type()), \"date_formatt\") )"
      ],
      "metadata": {
        "collapsed": true,
        "id": "IN8cAQQxvozj"
      },
      "execution_count": 20,
      "outputs": []
    },
    {
      "cell_type": "code",
      "source": [
        "socios.printSchema()"
      ],
      "metadata": {
        "colab": {
          "base_uri": "https://localhost:8080/"
        },
        "id": "hH0yEVY0zJ1b",
        "outputId": "c22b860e-1657-4593-9502-49cbd53725d7"
      },
      "execution_count": 33,
      "outputs": [
        {
          "output_type": "stream",
          "name": "stdout",
          "text": [
            "root\n",
            " |-- cnpj_basico: integer (nullable = true)\n",
            " |-- identificador_de_socio: integer (nullable = true)\n",
            " |-- nome_do_socio_ou_razao_social: string (nullable = true)\n",
            " |-- cnpj_ou_cpf_do_socio: string (nullable = true)\n",
            " |-- qualificacao_do_socio: integer (nullable = true)\n",
            " |-- data_de_entrada_sociedade: date (nullable = true)\n",
            " |-- pais: integer (nullable = true)\n",
            " |-- representante_legal: string (nullable = true)\n",
            " |-- nome_do_representante: string (nullable = true)\n",
            " |-- qualificacao_do_representante_legal: integer (nullable = true)\n",
            " |-- faixa_etaria: integer (nullable = true)\n",
            "\n"
          ]
        }
      ]
    },
    {
      "cell_type": "markdown",
      "source": [
        "## SQL Queries"
      ],
      "metadata": {
        "id": "9yAb9J5YI_Q8"
      }
    },
    {
      "cell_type": "markdown",
      "source": [
        "- Select\n",
        "- Funções de data\n",
        "- Alias\n",
        "- Params do show"
      ],
      "metadata": {
        "id": "_0WIGkKZMUZw"
      }
    },
    {
      "cell_type": "code",
      "source": [
        "socios\\\n",
        "    .select(\"cnpj_basico\" ,\"identificador_de_socio\",\n",
        "            f.year(\"data_de_entrada_sociedade\").alias(\"ano_entrada\"),\n",
        "            f.month(\"data_de_entrada_sociedade\").alias(\"mes_entrada\"))\\\n",
        "    .show(5, truncate=False)\n",
        "\n"
      ],
      "metadata": {
        "id": "IHwHh28_0hEJ",
        "colab": {
          "base_uri": "https://localhost:8080/"
        },
        "outputId": "0378d818-2471-4559-80a8-32fb1a0e9b22"
      },
      "execution_count": 38,
      "outputs": [
        {
          "output_type": "stream",
          "name": "stdout",
          "text": [
            "+-----------+----------------------+-----------+-----------+\n",
            "|cnpj_basico|identificador_de_socio|ano_entrada|mes_entrada|\n",
            "+-----------+----------------------+-----------+-----------+\n",
            "|        411|                     2|       1994|          7|\n",
            "|        411|                     2|       1994|          7|\n",
            "|       5813|                     2|       1994|          5|\n",
            "|       5813|                     2|       1994|          5|\n",
            "|      14798|                     2|       1994|          6|\n",
            "+-----------+----------------------+-----------+-----------+\n",
            "only showing top 5 rows\n",
            "\n"
          ]
        }
      ]
    },
    {
      "cell_type": "code",
      "source": [
        "data = [\n",
        "    ('GISELLE PAULA GUIMARAES CASTRO', 15),\n",
        "    ('ELAINE GARCIA DE OLIVEIRA', 22),\n",
        "    ('JOAO CARLOS ABNER DE LOURDES', 43),\n",
        "    ('MARTA ZELI FERREIRA', 24),\n",
        "    ('LAUDENETE WIGGERS ROEDER', 51)\n",
        "]\n",
        "colNames = ['nome', 'idade']\n",
        "df = spark.createDataFrame(data, colNames)\n",
        "df.show(truncate=False)"
      ],
      "metadata": {
        "colab": {
          "base_uri": "https://localhost:8080/"
        },
        "id": "uG3St8wHKSWa",
        "outputId": "ce278993-8207-452d-9c6d-b07ea1964c7a"
      },
      "execution_count": 39,
      "outputs": [
        {
          "output_type": "stream",
          "name": "stdout",
          "text": [
            "+------------------------------+-----+\n",
            "|nome                          |idade|\n",
            "+------------------------------+-----+\n",
            "|GISELLE PAULA GUIMARAES CASTRO|15   |\n",
            "|ELAINE GARCIA DE OLIVEIRA     |22   |\n",
            "|JOAO CARLOS ABNER DE LOURDES  |43   |\n",
            "|MARTA ZELI FERREIRA           |24   |\n",
            "|LAUDENETE WIGGERS ROEDER      |51   |\n",
            "+------------------------------+-----+\n",
            "\n"
          ]
        }
      ]
    },
    {
      "cell_type": "markdown",
      "source": [
        "## Query com substring e concatenação"
      ],
      "metadata": {
        "id": "8wZUYXmqPwB_"
      }
    },
    {
      "cell_type": "code",
      "source": [
        "df.select(\n",
        "    f.concat_ws(\n",
        "        \", \",\n",
        "        f.substring_index(\"nome\", \" \", 1),\n",
        "        f.substring_index(\"nome\", \" \", -1)\n",
        "        ).alias(\"ident\"),\n",
        "    \"idade\"\n",
        "    )\\\n",
        "    .show(truncate=False)"
      ],
      "metadata": {
        "colab": {
          "base_uri": "https://localhost:8080/"
        },
        "id": "urrRwYsVM1Ly",
        "outputId": "639edb7a-6616-4e95-ce2d-f7a7a82bf277"
      },
      "execution_count": 50,
      "outputs": [
        {
          "output_type": "stream",
          "name": "stdout",
          "text": [
            "+-----------------+-----+\n",
            "|ident            |idade|\n",
            "+-----------------+-----+\n",
            "|GISELLE, CASTRO  |15   |\n",
            "|ELAINE, OLIVEIRA |22   |\n",
            "|JOAO, LOURDES    |43   |\n",
            "|MARTA, FERREIRA  |24   |\n",
            "|LAUDENETE, ROEDER|51   |\n",
            "+-----------------+-----+\n",
            "\n"
          ]
        }
      ]
    },
    {
      "cell_type": "markdown",
      "source": [
        "## Counting Nulls and NaN"
      ],
      "metadata": {
        "id": "0m4yHTF-RKWf"
      }
    },
    {
      "cell_type": "code",
      "source": [
        "socios\\\n",
        "    .select([f.count( f.when(f.isnull(c), 1)).alias(f\"Qtd_nulls_em_{c}\") for c in socios.columns])\\\n",
        "    .show()"
      ],
      "metadata": {
        "colab": {
          "base_uri": "https://localhost:8080/"
        },
        "id": "tiXZVlfkM_w_",
        "outputId": "7ca93fca-dddc-42b8-ab05-c142b1b092c3"
      },
      "execution_count": 57,
      "outputs": [
        {
          "output_type": "stream",
          "name": "stdout",
          "text": [
            "+------------------------+-----------------------------------+------------------------------------------+---------------------------------+----------------------------------+--------------------------------------+-----------------+--------------------------------+----------------------------------+------------------------------------------------+-------------------------+\n",
            "|Qtd_nulls_em_cnpj_basico|Qtd_nulls_em_identificador_de_socio|Qtd_nulls_em_nome_do_socio_ou_razao_social|Qtd_nulls_em_cnpj_ou_cpf_do_socio|Qtd_nulls_em_qualificacao_do_socio|Qtd_nulls_em_data_de_entrada_sociedade|Qtd_nulls_em_pais|Qtd_nulls_em_representante_legal|Qtd_nulls_em_nome_do_representante|Qtd_nulls_em_qualificacao_do_representante_legal|Qtd_nulls_em_faixa_etaria|\n",
            "+------------------------+-----------------------------------+------------------------------------------+---------------------------------+----------------------------------+--------------------------------------+-----------------+--------------------------------+----------------------------------+------------------------------------------------+-------------------------+\n",
            "|                       0|                                  0|                                       208|                             1234|                                 0|                                     1|          2038255|                               0|                           1995432|                                               0|                        0|\n",
            "+------------------------+-----------------------------------+------------------------------------------+---------------------------------+----------------------------------+--------------------------------------+-----------------+--------------------------------+----------------------------------+------------------------------------------------+-------------------------+\n",
            "\n"
          ]
        }
      ]
    },
    {
      "cell_type": "markdown",
      "source": [
        "## Replacing NaN"
      ],
      "metadata": {
        "id": "uILlyyxvSlD9"
      }
    },
    {
      "cell_type": "code",
      "source": [
        "# Se passar valor numérico, ele só preenche nas colunas numéricas\n",
        "# O equivalente para outros types também se aplica\n",
        "socios.na.fill(\"-\").show()\n",
        "socios.na.fill(0).show()"
      ],
      "metadata": {
        "colab": {
          "base_uri": "https://localhost:8080/"
        },
        "collapsed": true,
        "id": "GV6qAWyXRN3d",
        "outputId": "5c8dc972-d12e-4542-aaa5-61540acdfa76"
      },
      "execution_count": 63,
      "outputs": [
        {
          "output_type": "stream",
          "name": "stdout",
          "text": [
            "+-----------+----------------------+-----------------------------+--------------------+---------------------+-------------------------+----+-------------------+---------------------+-----------------------------------+------------+\n",
            "|cnpj_basico|identificador_de_socio|nome_do_socio_ou_razao_social|cnpj_ou_cpf_do_socio|qualificacao_do_socio|data_de_entrada_sociedade|pais|representante_legal|nome_do_representante|qualificacao_do_representante_legal|faixa_etaria|\n",
            "+-----------+----------------------+-----------------------------+--------------------+---------------------+-------------------------+----+-------------------+---------------------+-----------------------------------+------------+\n",
            "|        411|                     2|         LILIANA PATRICIA ...|         ***678188**|                   22|               1994-07-25|NULL|        ***000000**|                    -|                                  0|           7|\n",
            "|        411|                     2|         CRISTINA HUNDERTMARK|         ***637848**|                   28|               1994-07-25|NULL|        ***000000**|                    -|                                  0|           7|\n",
            "|       5813|                     2|         CELSO EDUARDO DE ...|         ***786068**|                   49|               1994-05-16|NULL|        ***000000**|                    -|                                  0|           8|\n",
            "|       5813|                     2|         EDUARDO BERRINGER...|         ***442348**|                   49|               1994-05-16|NULL|        ***000000**|                    -|                                  0|           5|\n",
            "|      14798|                     2|          HANNE MAHFOUD FADEL|         ***760388**|                   49|               1994-06-09|NULL|        ***000000**|                    -|                                  0|           8|\n",
            "|      14798|                     2|             CLOD ASSAD FADEL|         ***205668**|                   22|               1994-06-09|NULL|        ***000000**|                    -|                                  0|           6|\n",
            "|      17826|                     2|            WALKYRIA ALGARVES|         ***689078**|                   49|               1997-02-27|NULL|        ***000000**|                    -|                                  0|           7|\n",
            "|      17826|                     2|         SEBASTIAO JADIR T...|         ***904728**|                   49|               2009-08-13|NULL|        ***000000**|                    -|                                  0|           5|\n",
            "|      19491|                     2|              JOSE JOAO ADAMO|         ***235698**|                   49|               1994-06-15|NULL|        ***000000**|                    -|                                  0|           7|\n",
            "|      19491|                     2|         ROSEMARY CANTUARI...|         ***959818**|                   49|               1994-06-15|NULL|        ***000000**|                    -|                                  0|           6|\n",
            "|      27848|                     2|         MARCOS AURELIO MOTTA|         ***262857**|                   49|               1994-07-18|NULL|        ***000000**|                    -|                                  0|           7|\n",
            "|      27848|                     2|         EDVAN CANDIDO ALE...|         ***460998**|                   22|               1994-07-18|NULL|        ***000000**|                    -|                                  0|           5|\n",
            "|      35232|                     2|           JAIME MOURE COLINO|         ***565078**|                   49|               1994-10-20|NULL|        ***000000**|                    -|                                  0|           6|\n",
            "|      35232|                     2|         SANDRA APARECIDA ...|         ***120938**|                   49|               1996-06-28|NULL|        ***000000**|                    -|                                  0|           6|\n",
            "|      35232|                     2|         LEIDA MARQUES PER...|         ***395928**|                   49|               1996-06-28|NULL|        ***000000**|                    -|                                  0|           6|\n",
            "|      56221|                     2|         DONZILIA FERREIRA...|         ***904307**|                   49|               1994-04-27|NULL|        ***000000**|                    -|                                  0|           8|\n",
            "|      56221|                     2|         ISRAEL AMERICANO ...|         ***571606**|                   22|               1994-04-24|NULL|        ***000000**|                    -|                                  0|           5|\n",
            "|      82946|                     2|         VALERIA RIBEIRO T...|         ***438401**|                   22|               1994-06-01|NULL|        ***000000**|                    -|                                  0|           6|\n",
            "|      82946|                     2|         CARLOS RAFAEL DO ...|         ***701279**|                   49|               2009-09-22|NULL|        ***000000**|                    -|                                  0|           5|\n",
            "|      85894|                     2|         IVAN MARQUEZ DE M...|         ***342771**|                   49|               1982-06-08|NULL|        ***000000**|                    -|                                  0|           7|\n",
            "+-----------+----------------------+-----------------------------+--------------------+---------------------+-------------------------+----+-------------------+---------------------+-----------------------------------+------------+\n",
            "only showing top 20 rows\n",
            "\n",
            "+-----------+----------------------+-----------------------------+--------------------+---------------------+-------------------------+----+-------------------+---------------------+-----------------------------------+------------+\n",
            "|cnpj_basico|identificador_de_socio|nome_do_socio_ou_razao_social|cnpj_ou_cpf_do_socio|qualificacao_do_socio|data_de_entrada_sociedade|pais|representante_legal|nome_do_representante|qualificacao_do_representante_legal|faixa_etaria|\n",
            "+-----------+----------------------+-----------------------------+--------------------+---------------------+-------------------------+----+-------------------+---------------------+-----------------------------------+------------+\n",
            "|        411|                     2|         LILIANA PATRICIA ...|         ***678188**|                   22|               1994-07-25|   0|        ***000000**|                 NULL|                                  0|           7|\n",
            "|        411|                     2|         CRISTINA HUNDERTMARK|         ***637848**|                   28|               1994-07-25|   0|        ***000000**|                 NULL|                                  0|           7|\n",
            "|       5813|                     2|         CELSO EDUARDO DE ...|         ***786068**|                   49|               1994-05-16|   0|        ***000000**|                 NULL|                                  0|           8|\n",
            "|       5813|                     2|         EDUARDO BERRINGER...|         ***442348**|                   49|               1994-05-16|   0|        ***000000**|                 NULL|                                  0|           5|\n",
            "|      14798|                     2|          HANNE MAHFOUD FADEL|         ***760388**|                   49|               1994-06-09|   0|        ***000000**|                 NULL|                                  0|           8|\n",
            "|      14798|                     2|             CLOD ASSAD FADEL|         ***205668**|                   22|               1994-06-09|   0|        ***000000**|                 NULL|                                  0|           6|\n",
            "|      17826|                     2|            WALKYRIA ALGARVES|         ***689078**|                   49|               1997-02-27|   0|        ***000000**|                 NULL|                                  0|           7|\n",
            "|      17826|                     2|         SEBASTIAO JADIR T...|         ***904728**|                   49|               2009-08-13|   0|        ***000000**|                 NULL|                                  0|           5|\n",
            "|      19491|                     2|              JOSE JOAO ADAMO|         ***235698**|                   49|               1994-06-15|   0|        ***000000**|                 NULL|                                  0|           7|\n",
            "|      19491|                     2|         ROSEMARY CANTUARI...|         ***959818**|                   49|               1994-06-15|   0|        ***000000**|                 NULL|                                  0|           6|\n",
            "|      27848|                     2|         MARCOS AURELIO MOTTA|         ***262857**|                   49|               1994-07-18|   0|        ***000000**|                 NULL|                                  0|           7|\n",
            "|      27848|                     2|         EDVAN CANDIDO ALE...|         ***460998**|                   22|               1994-07-18|   0|        ***000000**|                 NULL|                                  0|           5|\n",
            "|      35232|                     2|           JAIME MOURE COLINO|         ***565078**|                   49|               1994-10-20|   0|        ***000000**|                 NULL|                                  0|           6|\n",
            "|      35232|                     2|         SANDRA APARECIDA ...|         ***120938**|                   49|               1996-06-28|   0|        ***000000**|                 NULL|                                  0|           6|\n",
            "|      35232|                     2|         LEIDA MARQUES PER...|         ***395928**|                   49|               1996-06-28|   0|        ***000000**|                 NULL|                                  0|           6|\n",
            "|      56221|                     2|         DONZILIA FERREIRA...|         ***904307**|                   49|               1994-04-27|   0|        ***000000**|                 NULL|                                  0|           8|\n",
            "|      56221|                     2|         ISRAEL AMERICANO ...|         ***571606**|                   22|               1994-04-24|   0|        ***000000**|                 NULL|                                  0|           5|\n",
            "|      82946|                     2|         VALERIA RIBEIRO T...|         ***438401**|                   22|               1994-06-01|   0|        ***000000**|                 NULL|                                  0|           6|\n",
            "|      82946|                     2|         CARLOS RAFAEL DO ...|         ***701279**|                   49|               2009-09-22|   0|        ***000000**|                 NULL|                                  0|           5|\n",
            "|      85894|                     2|         IVAN MARQUEZ DE M...|         ***342771**|                   49|               1982-06-08|   0|        ***000000**|                 NULL|                                  0|           7|\n",
            "+-----------+----------------------+-----------------------------+--------------------+---------------------+-------------------------+----+-------------------+---------------------+-----------------------------------+------------+\n",
            "only showing top 20 rows\n",
            "\n"
          ]
        }
      ]
    },
    {
      "cell_type": "code",
      "source": [],
      "metadata": {
        "id": "iVhCN8EfSxGF"
      },
      "execution_count": null,
      "outputs": []
    }
  ]
}