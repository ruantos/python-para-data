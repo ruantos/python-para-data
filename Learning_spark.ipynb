{
  "nbformat": 4,
  "nbformat_minor": 0,
  "metadata": {
    "colab": {
      "provenance": [],
      "authorship_tag": "ABX9TyOzmVgeWpplVJv1XWaMZVYO",
      "include_colab_link": true
    },
    "kernelspec": {
      "name": "python3",
      "display_name": "Python 3"
    },
    "language_info": {
      "name": "python"
    }
  },
  "cells": [
    {
      "cell_type": "markdown",
      "metadata": {
        "id": "view-in-github",
        "colab_type": "text"
      },
      "source": [
        "<a href=\"https://colab.research.google.com/github/ruantos/python-para-data/blob/main/Learning_spark.ipynb\" target=\"_parent\"><img src=\"https://colab.research.google.com/assets/colab-badge.svg\" alt=\"Open In Colab\"/></a>"
      ]
    },
    {
      "cell_type": "markdown",
      "source": [
        "## Installing the hard way"
      ],
      "metadata": {
        "id": "276uTBKhDhqC"
      }
    },
    {
      "cell_type": "markdown",
      "source": [
        "### Installing dependencies\n",
        "1. install java\n",
        "2. downloads spark tar\n",
        "3. unzip it\n",
        "4. pip install findspark\n"
      ],
      "metadata": {
        "id": "FSGbATn5DwY2"
      }
    },
    {
      "cell_type": "code",
      "source": [
        "!sudo apt update\n",
        "!apt-get install openjdk-8-jdk-headless -qq > /dev/null\n",
        "!wget -q http://archive.apache.org/dist/spark/spark-3.5.0/spark-3.5.0-bin-hadoop3.tgz\n",
        "!tar xf spark-3.5.0-bin-hadoop3.tgz\n",
        "!pip install -q findspark\n",
        "\n",
        "import os\n",
        "import findspark\n",
        "\n",
        "os.environ[\"JAVA_HOME\"] = \"/usr/lib/jvm/java-8-openjdk-amd64\"\n",
        "os.environ[\"SPARK_HOME\"] = \"/content/spark-3.5.0-bin-hadoop3\"\n",
        "\n",
        "findspark.init()\n"
      ],
      "metadata": {
        "id": "SalQfeU0AUVu",
        "colab": {
          "base_uri": "https://localhost:8080/"
        },
        "collapsed": true,
        "outputId": "de577219-1478-458f-bf66-3c186517b371"
      },
      "execution_count": 43,
      "outputs": [
        {
          "output_type": "stream",
          "name": "stdout",
          "text": [
            "\u001b[33m\r0% [Working]\u001b[0m\r            \rHit:1 http://security.ubuntu.com/ubuntu jammy-security InRelease\n",
            "\u001b[33m\r0% [Waiting for headers] [Connected to cloud.r-project.org (3.171.85.66)] [Conn\u001b[0m\r                                                                               \rHit:2 http://archive.ubuntu.com/ubuntu jammy InRelease\n",
            "\r                                                                               \rHit:3 http://archive.ubuntu.com/ubuntu jammy-updates InRelease\n",
            "\r                                                                               \rHit:4 https://cloud.r-project.org/bin/linux/ubuntu jammy-cran40/ InRelease\n",
            "\u001b[33m\r0% [Waiting for headers] [Connected to r2u.stat.illinois.edu (192.17.190.167)] \u001b[0m\r                                                                               \rHit:5 http://archive.ubuntu.com/ubuntu jammy-backports InRelease\n",
            "\u001b[33m\r0% [Connected to r2u.stat.illinois.edu (192.17.190.167)] [Connected to develope\u001b[0m\r                                                                               \rHit:6 https://developer.download.nvidia.com/compute/cuda/repos/ubuntu2204/x86_64  InRelease\n",
            "Hit:7 https://r2u.stat.illinois.edu/ubuntu jammy InRelease\n",
            "Hit:8 https://ppa.launchpadcontent.net/deadsnakes/ppa/ubuntu jammy InRelease\n",
            "Hit:9 https://ppa.launchpadcontent.net/graphics-drivers/ppa/ubuntu jammy InRelease\n",
            "Hit:10 https://ppa.launchpadcontent.net/ubuntugis/ppa/ubuntu jammy InRelease\n",
            "Reading package lists... Done\n",
            "Building dependency tree... Done\n",
            "Reading state information... Done\n",
            "36 packages can be upgraded. Run 'apt list --upgradable' to see them.\n",
            "\u001b[1;33mW: \u001b[0mSkipping acquire of configured file 'main/source/Sources' as repository 'https://r2u.stat.illinois.edu/ubuntu jammy InRelease' does not seem to provide it (sources.list entry misspelt?)\u001b[0m\n"
          ]
        }
      ]
    },
    {
      "cell_type": "markdown",
      "source": [
        "### Setting environment variables"
      ],
      "metadata": {
        "id": "Pr2kiS9IEudL"
      }
    },
    {
      "cell_type": "code",
      "source": [
        "from pyspark.sql import SparkSession"
      ],
      "metadata": {
        "id": "dCL7K8hiEIlO"
      },
      "execution_count": 44,
      "outputs": []
    },
    {
      "cell_type": "code",
      "source": [
        "spark = SparkSession \\\n",
        "            .builder \\\n",
        "            .appName(\"Primeira Sessão\") \\\n",
        "            .getOrCreate()"
      ],
      "metadata": {
        "id": "VjI14ZhaAptv"
      },
      "execution_count": 45,
      "outputs": []
    },
    {
      "cell_type": "markdown",
      "source": [
        "## Mounting your google drive"
      ],
      "metadata": {
        "id": "fI0QZ8-wvPzS"
      }
    },
    {
      "cell_type": "code",
      "source": [
        "from google.colab import drive\n",
        "drive.mount(\"/content/drive\")"
      ],
      "metadata": {
        "colab": {
          "base_uri": "https://localhost:8080/"
        },
        "id": "yUqAg0lbQgcF",
        "outputId": "a064fb19-4aea-4577-e448-1905f9e78772"
      },
      "execution_count": 46,
      "outputs": [
        {
          "output_type": "stream",
          "name": "stdout",
          "text": [
            "Drive already mounted at /content/drive; to attempt to forcibly remount, call drive.mount(\"/content/drive\", force_remount=True).\n"
          ]
        }
      ]
    },
    {
      "cell_type": "markdown",
      "source": [
        "## Unziping files"
      ],
      "metadata": {
        "id": "lJmkjdWouZgS"
      }
    },
    {
      "cell_type": "code",
      "source": [
        "# import zipfile\n",
        "\n",
        "# zipfile \\\n",
        "#     .ZipFile('/content/drive/MyDrive/Colab Notebooks/Curso spark/empresas.zip', 'r') \\\n",
        "#     .extractall('/content/drive/MyDrive/Colab Notebooks/Curso spark/')\n",
        "\n",
        "# zipfile \\\n",
        "#     .ZipFile('/content/drive/MyDrive/Colab Notebooks/Curso spark/estabelecimentos.zip', 'r') \\\n",
        "#     .extractall('/content/drive/MyDrive/Colab Notebooks/Curso spark/')\n",
        "\n",
        "# zipfile \\\n",
        "#     .ZipFile('/content/drive/MyDrive/Colab Notebooks/Curso spark/socios.zip', 'r') \\\n",
        "#     .extractall('/content/drive/MyDrive/Colab Notebooks/Curso spark/')\n"
      ],
      "metadata": {
        "id": "XtrnbG9CSHLB"
      },
      "execution_count": 47,
      "outputs": []
    },
    {
      "cell_type": "markdown",
      "source": [
        "## Creating sparks dataframes"
      ],
      "metadata": {
        "id": "LE1UTeM0vKFB"
      }
    },
    {
      "cell_type": "code",
      "source": [
        "path = {\n",
        "    \"empresas\": \"/content/drive/MyDrive/Colab Notebooks/Curso spark/empresas\",\n",
        "    \"socios\": \"/content/drive/MyDrive/Colab Notebooks/Curso spark/socios\"\n",
        "    }"
      ],
      "metadata": {
        "id": "Ds616rDyVyPT"
      },
      "execution_count": 48,
      "outputs": []
    },
    {
      "cell_type": "code",
      "source": [
        "empresas = spark.read.csv(path[\"empresas\"], sep=\";\", inferSchema=True)\n",
        "# estabelecimentos = spark.read.csv(path[\"estabelecimentos\"], sep=\";\", inferSchema=True)\n",
        "socios = spark.read.csv(path[\"socios\"], sep=\";\", inferSchema=True)"
      ],
      "metadata": {
        "id": "72PveETIWqiS"
      },
      "execution_count": 49,
      "outputs": []
    },
    {
      "cell_type": "markdown",
      "source": [
        "## Changing columns names"
      ],
      "metadata": {
        "id": "HowUKS9WvgH2"
      }
    },
    {
      "cell_type": "code",
      "source": [
        "empresas.limit(5).show()"
      ],
      "metadata": {
        "colab": {
          "base_uri": "https://localhost:8080/"
        },
        "id": "tmy1gLD3WwFY",
        "outputId": "004c166c-a315-4c8f-9f0a-ca5ccc16e631"
      },
      "execution_count": 50,
      "outputs": [
        {
          "output_type": "stream",
          "name": "stdout",
          "text": [
            "+----+--------------------+----+---+-------+---+----+\n",
            "| _c0|                 _c1| _c2|_c3|    _c4|_c5| _c6|\n",
            "+----+--------------------+----+---+-------+---+----+\n",
            "| 306|FRANCAMAR REFRIGE...|2240| 49|   0,00|  1|NULL|\n",
            "|1355|BRASILEIRO & OLIV...|2062| 49|   0,00|  5|NULL|\n",
            "|4820|REGISTRO DE IMOVE...|3034| 32|   0,00|  5|NULL|\n",
            "|5347|ROSELY APARECIDA ...|2135| 50|   0,00|  5|NULL|\n",
            "|6846|BADU E FILHOS TEC...|2062| 49|4000,00|  1|NULL|\n",
            "+----+--------------------+----+---+-------+---+----+\n",
            "\n"
          ]
        }
      ]
    },
    {
      "cell_type": "code",
      "source": [
        "empresasColNames = ['cnpj_basico', 'razao_social_nome_empresarial', 'natureza_juridica', 'qualificacao_do_responsavel', 'capital_social_da_empresa', 'porte_da_empresa', 'ente_federativo_responsavel']\n",
        "estabsColNames = ['cnpj_basico', 'cnpj_ordem', 'cnpj_dv', 'identificador_matriz_filial', 'nome_fantasia', 'situacao_cadastral', 'data_situacao_cadastral', 'motivo_situacao_cadastral', 'nome_da_cidade_no_exterior', 'pais', 'data_de_inicio_atividade', 'cnae_fiscal_principal', 'cnae_fiscal_secundaria', 'tipo_de_logradouro', 'logradouro', 'numero', 'complemento', 'bairro', 'cep', 'uf', 'municipio', 'ddd_1', 'telefone_1', 'ddd_2', 'telefone_2', 'ddd_do_fax', 'fax', 'correio_eletronico', 'situacao_especial', 'data_da_situacao_especial']\n",
        "sociosColNames = ['cnpj_basico', 'identificador_de_socio', 'nome_do_socio_ou_razao_social', 'cnpj_ou_cpf_do_socio', 'qualificacao_do_socio', 'data_de_entrada_sociedade', 'pais', 'representante_legal', 'nome_do_representante', 'qualificacao_do_representante_legal', 'faixa_etaria']"
      ],
      "metadata": {
        "id": "zWa_vcNouPbk"
      },
      "execution_count": 51,
      "outputs": []
    },
    {
      "cell_type": "code",
      "source": [
        "def rename_col(df, col_names):\n",
        "    for index, name in enumerate(col_names):\n",
        "        # enumerate retorna uma tupla contendo\n",
        "        # o indice e cada valor no array\n",
        "\n",
        "        # params são o nome da coluna e o novo nome\n",
        "        df = df.withColumnRenamed(f\"_c{index}\", name)\n",
        "    return df"
      ],
      "metadata": {
        "id": "phZRPBPhwos7"
      },
      "execution_count": 52,
      "outputs": []
    },
    {
      "cell_type": "code",
      "source": [
        "empresas = rename_col(empresas, empresasColNames)\n",
        "# estabelecimentos = rename_col(estabelecimentos, estabsColNames)\n",
        "socios = rename_col(socios, sociosColNames)"
      ],
      "metadata": {
        "id": "vWuhHL5bw8yc"
      },
      "execution_count": 53,
      "outputs": []
    },
    {
      "cell_type": "code",
      "source": [
        "empresas.limit(5).show()"
      ],
      "metadata": {
        "colab": {
          "base_uri": "https://localhost:8080/"
        },
        "id": "xflZWBjnxeNT",
        "outputId": "7fcfff96-7cd0-4f79-a5f4-0b64996a84c7",
        "collapsed": true
      },
      "execution_count": 54,
      "outputs": [
        {
          "output_type": "stream",
          "name": "stdout",
          "text": [
            "+-----------+-----------------------------+-----------------+---------------------------+-------------------------+----------------+---------------------------+\n",
            "|cnpj_basico|razao_social_nome_empresarial|natureza_juridica|qualificacao_do_responsavel|capital_social_da_empresa|porte_da_empresa|ente_federativo_responsavel|\n",
            "+-----------+-----------------------------+-----------------+---------------------------+-------------------------+----------------+---------------------------+\n",
            "|        306|         FRANCAMAR REFRIGE...|             2240|                         49|                     0,00|               1|                       NULL|\n",
            "|       1355|         BRASILEIRO & OLIV...|             2062|                         49|                     0,00|               5|                       NULL|\n",
            "|       4820|         REGISTRO DE IMOVE...|             3034|                         32|                     0,00|               5|                       NULL|\n",
            "|       5347|         ROSELY APARECIDA ...|             2135|                         50|                     0,00|               5|                       NULL|\n",
            "|       6846|         BADU E FILHOS TEC...|             2062|                         49|                  4000,00|               1|                       NULL|\n",
            "+-----------+-----------------------------+-----------------+---------------------------+-------------------------+----------------+---------------------------+\n",
            "\n"
          ]
        }
      ]
    },
    {
      "cell_type": "code",
      "source": [
        "empresas.printSchema()"
      ],
      "metadata": {
        "colab": {
          "base_uri": "https://localhost:8080/"
        },
        "id": "ARUPlW6iywvK",
        "outputId": "70a65b29-dd06-4b0c-9302-784cfcba09f0",
        "collapsed": true
      },
      "execution_count": 55,
      "outputs": [
        {
          "output_type": "stream",
          "name": "stdout",
          "text": [
            "root\n",
            " |-- cnpj_basico: integer (nullable = true)\n",
            " |-- razao_social_nome_empresarial: string (nullable = true)\n",
            " |-- natureza_juridica: integer (nullable = true)\n",
            " |-- qualificacao_do_responsavel: integer (nullable = true)\n",
            " |-- capital_social_da_empresa: string (nullable = true)\n",
            " |-- porte_da_empresa: integer (nullable = true)\n",
            " |-- ente_federativo_responsavel: string (nullable = true)\n",
            "\n"
          ]
        }
      ]
    },
    {
      "cell_type": "markdown",
      "source": [
        "## Using replace and changing cols datatypes"
      ],
      "metadata": {
        "id": "yyGrt_8GwMu7"
      }
    },
    {
      "cell_type": "code",
      "source": [
        "from pyspark.sql.types import DecimalType, StringType, DoubleType\n",
        "from pyspark.sql import functions as f"
      ],
      "metadata": {
        "id": "7p7iJrF-y7TF"
      },
      "execution_count": 56,
      "outputs": []
    },
    {
      "cell_type": "code",
      "source": [
        "col = \"capital_social_da_empresa\"\n",
        "empresas = empresas.withColumn(col, f.regexp_replace(col, \",\", \".\"))"
      ],
      "metadata": {
        "id": "ZPUPaRUht4Pf"
      },
      "execution_count": 57,
      "outputs": []
    },
    {
      "cell_type": "code",
      "source": [
        "empresas = empresas.withColumn(col, empresas[col].cast(DoubleType()))"
      ],
      "metadata": {
        "id": "cGSfWopuvSiD"
      },
      "execution_count": 58,
      "outputs": []
    },
    {
      "cell_type": "markdown",
      "source": [
        "## Converting string to date"
      ],
      "metadata": {
        "id": "timL3kvVxWG4"
      }
    },
    {
      "cell_type": "code",
      "source": [
        "socios = socios.withColumn(\"data_de_entrada_sociedade\",\\\n",
        "           f.to_date(socios.data_de_entrada_sociedade.cast(StringType()), \"yyyyMMdd\"))\n",
        "# df.withColumn(col, f.to_date(df[col].cast(old_type()), \"date_formatt\") )"
      ],
      "metadata": {
        "collapsed": true,
        "id": "IN8cAQQxvozj"
      },
      "execution_count": 59,
      "outputs": []
    },
    {
      "cell_type": "code",
      "source": [
        "socios.printSchema()"
      ],
      "metadata": {
        "colab": {
          "base_uri": "https://localhost:8080/"
        },
        "id": "hH0yEVY0zJ1b",
        "outputId": "a049e8e4-5127-4bb3-e5fb-fccd0454021a"
      },
      "execution_count": 60,
      "outputs": [
        {
          "output_type": "stream",
          "name": "stdout",
          "text": [
            "root\n",
            " |-- cnpj_basico: integer (nullable = true)\n",
            " |-- identificador_de_socio: integer (nullable = true)\n",
            " |-- nome_do_socio_ou_razao_social: string (nullable = true)\n",
            " |-- cnpj_ou_cpf_do_socio: string (nullable = true)\n",
            " |-- qualificacao_do_socio: integer (nullable = true)\n",
            " |-- data_de_entrada_sociedade: date (nullable = true)\n",
            " |-- pais: integer (nullable = true)\n",
            " |-- representante_legal: string (nullable = true)\n",
            " |-- nome_do_representante: string (nullable = true)\n",
            " |-- qualificacao_do_representante_legal: integer (nullable = true)\n",
            " |-- faixa_etaria: integer (nullable = true)\n",
            "\n"
          ]
        }
      ]
    },
    {
      "cell_type": "markdown",
      "source": [
        "## SQL Queries"
      ],
      "metadata": {
        "id": "9yAb9J5YI_Q8"
      }
    },
    {
      "cell_type": "markdown",
      "source": [
        "- Select\n",
        "- Funções de data\n",
        "- Alias\n",
        "- Params do show"
      ],
      "metadata": {
        "id": "_0WIGkKZMUZw"
      }
    },
    {
      "cell_type": "code",
      "source": [
        "socios\\\n",
        "    .select(\"cnpj_basico\" ,\"identificador_de_socio\",\n",
        "            f.year(\"data_de_entrada_sociedade\").alias(\"ano_entrada\"),\n",
        "            f.month(\"data_de_entrada_sociedade\").alias(\"mes_entrada\"))\\\n",
        "    .show(5, truncate=False)"
      ],
      "metadata": {
        "id": "IHwHh28_0hEJ",
        "colab": {
          "base_uri": "https://localhost:8080/"
        },
        "outputId": "8a5d5fba-6e17-469c-ff36-6cf29dbd5895"
      },
      "execution_count": 61,
      "outputs": [
        {
          "output_type": "stream",
          "name": "stdout",
          "text": [
            "+-----------+----------------------+-----------+-----------+\n",
            "|cnpj_basico|identificador_de_socio|ano_entrada|mes_entrada|\n",
            "+-----------+----------------------+-----------+-----------+\n",
            "|411        |2                     |1994       |7          |\n",
            "|411        |2                     |1994       |7          |\n",
            "|5813       |2                     |1994       |5          |\n",
            "|5813       |2                     |1994       |5          |\n",
            "|14798      |2                     |1994       |6          |\n",
            "+-----------+----------------------+-----------+-----------+\n",
            "only showing top 5 rows\n",
            "\n"
          ]
        }
      ]
    },
    {
      "cell_type": "code",
      "source": [
        "data = [\n",
        "    ('GISELLE PAULA GUIMARAES CASTRO', 15),\n",
        "    ('ELAINE GARCIA DE OLIVEIRA', 22),\n",
        "    ('JOAO CARLOS ABNER DE LOURDES', 43),\n",
        "    ('MARTA ZELI FERREIRA', 24),\n",
        "    ('LAUDENETE WIGGERS ROEDER', 51)\n",
        "]\n",
        "colNames = ['nome', 'idade']\n",
        "df = spark.createDataFrame(data, colNames)\n",
        "df.show(truncate=False)"
      ],
      "metadata": {
        "colab": {
          "base_uri": "https://localhost:8080/"
        },
        "id": "uG3St8wHKSWa",
        "outputId": "6c710f13-a052-4162-bf10-31f6f846ab5c"
      },
      "execution_count": 62,
      "outputs": [
        {
          "output_type": "stream",
          "name": "stdout",
          "text": [
            "+------------------------------+-----+\n",
            "|nome                          |idade|\n",
            "+------------------------------+-----+\n",
            "|GISELLE PAULA GUIMARAES CASTRO|15   |\n",
            "|ELAINE GARCIA DE OLIVEIRA     |22   |\n",
            "|JOAO CARLOS ABNER DE LOURDES  |43   |\n",
            "|MARTA ZELI FERREIRA           |24   |\n",
            "|LAUDENETE WIGGERS ROEDER      |51   |\n",
            "+------------------------------+-----+\n",
            "\n"
          ]
        }
      ]
    },
    {
      "cell_type": "markdown",
      "source": [
        "## Query com substring\n",
        "- substring\n",
        "- concat"
      ],
      "metadata": {
        "id": "8wZUYXmqPwB_"
      }
    },
    {
      "cell_type": "code",
      "source": [
        "df.select(\n",
        "    f.concat_ws(\n",
        "        \", \",\n",
        "        f.substring_index(\"nome\", \" \", 1),\n",
        "        f.substring_index(\"nome\", \" \", -1)\n",
        "        ).alias(\"ident\"),\n",
        "    \"idade\"\n",
        "    )\\\n",
        "    .show(truncate=False)"
      ],
      "metadata": {
        "colab": {
          "base_uri": "https://localhost:8080/"
        },
        "id": "urrRwYsVM1Ly",
        "outputId": "e96ba349-dd36-49a7-bad7-cf6a452ede41"
      },
      "execution_count": 63,
      "outputs": [
        {
          "output_type": "stream",
          "name": "stdout",
          "text": [
            "+-----------------+-----+\n",
            "|ident            |idade|\n",
            "+-----------------+-----+\n",
            "|GISELLE, CASTRO  |15   |\n",
            "|ELAINE, OLIVEIRA |22   |\n",
            "|JOAO, LOURDES    |43   |\n",
            "|MARTA, FERREIRA  |24   |\n",
            "|LAUDENETE, ROEDER|51   |\n",
            "+-----------------+-----+\n",
            "\n"
          ]
        }
      ]
    },
    {
      "cell_type": "markdown",
      "source": [
        "## Counting Nulls and NaN"
      ],
      "metadata": {
        "id": "0m4yHTF-RKWf"
      }
    },
    {
      "cell_type": "code",
      "source": [
        "socios\\\n",
        "    .select([f.count( f.when(f.isnull(c), 1)).alias(f\"Qtd_nulls_em_{c}\") for c in socios.columns])\\\n",
        "    .show()"
      ],
      "metadata": {
        "colab": {
          "base_uri": "https://localhost:8080/"
        },
        "id": "tiXZVlfkM_w_",
        "outputId": "daf93667-68cf-4ddd-b211-0de0d9c06cfc"
      },
      "execution_count": 64,
      "outputs": [
        {
          "output_type": "stream",
          "name": "stdout",
          "text": [
            "+------------------------+-----------------------------------+------------------------------------------+---------------------------------+----------------------------------+--------------------------------------+-----------------+--------------------------------+----------------------------------+------------------------------------------------+-------------------------+\n",
            "|Qtd_nulls_em_cnpj_basico|Qtd_nulls_em_identificador_de_socio|Qtd_nulls_em_nome_do_socio_ou_razao_social|Qtd_nulls_em_cnpj_ou_cpf_do_socio|Qtd_nulls_em_qualificacao_do_socio|Qtd_nulls_em_data_de_entrada_sociedade|Qtd_nulls_em_pais|Qtd_nulls_em_representante_legal|Qtd_nulls_em_nome_do_representante|Qtd_nulls_em_qualificacao_do_representante_legal|Qtd_nulls_em_faixa_etaria|\n",
            "+------------------------+-----------------------------------+------------------------------------------+---------------------------------+----------------------------------+--------------------------------------+-----------------+--------------------------------+----------------------------------+------------------------------------------------+-------------------------+\n",
            "|                       0|                                  0|                                       208|                             1234|                                 0|                                     1|          2038255|                               0|                           1995432|                                               0|                        0|\n",
            "+------------------------+-----------------------------------+------------------------------------------+---------------------------------+----------------------------------+--------------------------------------+-----------------+--------------------------------+----------------------------------+------------------------------------------------+-------------------------+\n",
            "\n"
          ]
        }
      ]
    },
    {
      "cell_type": "markdown",
      "source": [
        "## Replacing NaN"
      ],
      "metadata": {
        "id": "uILlyyxvSlD9"
      }
    },
    {
      "cell_type": "code",
      "source": [
        "# Se passar valor numérico, ele só preenche nas colunas numéricas\n",
        "# O equivalente para outros types também se aplica\n",
        "\n",
        "#Float e NaN, o resto é Null\n",
        "socios.na.fill(\"-\").show()\n",
        "# socios.na.fill(0).show()"
      ],
      "metadata": {
        "colab": {
          "base_uri": "https://localhost:8080/"
        },
        "collapsed": true,
        "id": "GV6qAWyXRN3d",
        "outputId": "a510b4c6-8069-4380-f6ab-fb65484afcbc"
      },
      "execution_count": 65,
      "outputs": [
        {
          "output_type": "stream",
          "name": "stdout",
          "text": [
            "+-----------+----------------------+-----------------------------+--------------------+---------------------+-------------------------+----+-------------------+---------------------+-----------------------------------+------------+\n",
            "|cnpj_basico|identificador_de_socio|nome_do_socio_ou_razao_social|cnpj_ou_cpf_do_socio|qualificacao_do_socio|data_de_entrada_sociedade|pais|representante_legal|nome_do_representante|qualificacao_do_representante_legal|faixa_etaria|\n",
            "+-----------+----------------------+-----------------------------+--------------------+---------------------+-------------------------+----+-------------------+---------------------+-----------------------------------+------------+\n",
            "|        411|                     2|         LILIANA PATRICIA ...|         ***678188**|                   22|               1994-07-25|NULL|        ***000000**|                    -|                                  0|           7|\n",
            "|        411|                     2|         CRISTINA HUNDERTMARK|         ***637848**|                   28|               1994-07-25|NULL|        ***000000**|                    -|                                  0|           7|\n",
            "|       5813|                     2|         CELSO EDUARDO DE ...|         ***786068**|                   49|               1994-05-16|NULL|        ***000000**|                    -|                                  0|           8|\n",
            "|       5813|                     2|         EDUARDO BERRINGER...|         ***442348**|                   49|               1994-05-16|NULL|        ***000000**|                    -|                                  0|           5|\n",
            "|      14798|                     2|          HANNE MAHFOUD FADEL|         ***760388**|                   49|               1994-06-09|NULL|        ***000000**|                    -|                                  0|           8|\n",
            "|      14798|                     2|             CLOD ASSAD FADEL|         ***205668**|                   22|               1994-06-09|NULL|        ***000000**|                    -|                                  0|           6|\n",
            "|      17826|                     2|            WALKYRIA ALGARVES|         ***689078**|                   49|               1997-02-27|NULL|        ***000000**|                    -|                                  0|           7|\n",
            "|      17826|                     2|         SEBASTIAO JADIR T...|         ***904728**|                   49|               2009-08-13|NULL|        ***000000**|                    -|                                  0|           5|\n",
            "|      19491|                     2|              JOSE JOAO ADAMO|         ***235698**|                   49|               1994-06-15|NULL|        ***000000**|                    -|                                  0|           7|\n",
            "|      19491|                     2|         ROSEMARY CANTUARI...|         ***959818**|                   49|               1994-06-15|NULL|        ***000000**|                    -|                                  0|           6|\n",
            "|      27848|                     2|         MARCOS AURELIO MOTTA|         ***262857**|                   49|               1994-07-18|NULL|        ***000000**|                    -|                                  0|           7|\n",
            "|      27848|                     2|         EDVAN CANDIDO ALE...|         ***460998**|                   22|               1994-07-18|NULL|        ***000000**|                    -|                                  0|           5|\n",
            "|      35232|                     2|           JAIME MOURE COLINO|         ***565078**|                   49|               1994-10-20|NULL|        ***000000**|                    -|                                  0|           6|\n",
            "|      35232|                     2|         SANDRA APARECIDA ...|         ***120938**|                   49|               1996-06-28|NULL|        ***000000**|                    -|                                  0|           6|\n",
            "|      35232|                     2|         LEIDA MARQUES PER...|         ***395928**|                   49|               1996-06-28|NULL|        ***000000**|                    -|                                  0|           6|\n",
            "|      56221|                     2|         DONZILIA FERREIRA...|         ***904307**|                   49|               1994-04-27|NULL|        ***000000**|                    -|                                  0|           8|\n",
            "|      56221|                     2|         ISRAEL AMERICANO ...|         ***571606**|                   22|               1994-04-24|NULL|        ***000000**|                    -|                                  0|           5|\n",
            "|      82946|                     2|         VALERIA RIBEIRO T...|         ***438401**|                   22|               1994-06-01|NULL|        ***000000**|                    -|                                  0|           6|\n",
            "|      82946|                     2|         CARLOS RAFAEL DO ...|         ***701279**|                   49|               2009-09-22|NULL|        ***000000**|                    -|                                  0|           5|\n",
            "|      85894|                     2|         IVAN MARQUEZ DE M...|         ***342771**|                   49|               1982-06-08|NULL|        ***000000**|                    -|                                  0|           7|\n",
            "+-----------+----------------------+-----------------------------+--------------------+---------------------+-------------------------+----+-------------------+---------------------+-----------------------------------+------------+\n",
            "only showing top 20 rows\n",
            "\n"
          ]
        }
      ]
    },
    {
      "cell_type": "markdown",
      "source": [
        "## Order By"
      ],
      "metadata": {
        "id": "h7rUZiRzUc2V"
      }
    },
    {
      "cell_type": "code",
      "source": [
        "socios\\\n",
        "    .select(\"nome_do_socio_ou_razao_social\", \"faixa_etaria\",\n",
        "            f.year(\"data_de_entrada_sociedade\").alias(\"ano_entrada\"))\\\n",
        "    .orderBy([\"ano_entrada\", \"faixa_etaria\"], ascending=[False, False])\\\n",
        "    .show(5, truncate=False)"
      ],
      "metadata": {
        "colab": {
          "base_uri": "https://localhost:8080/"
        },
        "id": "iVhCN8EfSxGF",
        "outputId": "1b635170-9228-43e7-9cd0-64a368ee899c"
      },
      "execution_count": 66,
      "outputs": [
        {
          "output_type": "stream",
          "name": "stdout",
          "text": [
            "+-------------------------------+------------+-----------+\n",
            "|nome_do_socio_ou_razao_social  |faixa_etaria|ano_entrada|\n",
            "+-------------------------------+------------+-----------+\n",
            "|EDGAR FRANCISCO DA SILVA       |9           |2021       |\n",
            "|MARIA RAIMUNDA DOS SANTOS LANZA|9           |2021       |\n",
            "|WILLIAM WHITING BEACH VEALE    |9           |2021       |\n",
            "|MARIA JOSE DOMINGUES BONATO    |9           |2021       |\n",
            "|ANTONIO TAVARES DE ANDRADE     |9           |2021       |\n",
            "+-------------------------------+------------+-----------+\n",
            "only showing top 5 rows\n",
            "\n"
          ]
        }
      ]
    },
    {
      "cell_type": "markdown",
      "source": [
        "## Where clause"
      ],
      "metadata": {
        "id": "34dG8Ee9WYQa"
      }
    },
    {
      "cell_type": "code",
      "source": [
        "socios\\\n",
        "    .select(\n",
        "        \"nome_do_socio_ou_razao_social\", \"faixa_etaria\",\n",
        "        f.year(\"data_de_entrada_sociedade\").alias(\"ano_entrada\"))\\\n",
        "    .where(\"ano_entrada = 2021\")\\\n",
        "    .limit(5)\\\n",
        "    .show()"
      ],
      "metadata": {
        "colab": {
          "base_uri": "https://localhost:8080/"
        },
        "id": "-5sEECH6U4e_",
        "outputId": "f7e6a9ae-aadb-4b2b-a80e-f256d3141fa3"
      },
      "execution_count": 67,
      "outputs": [
        {
          "output_type": "stream",
          "name": "stdout",
          "text": [
            "+-----------------------------+------------+-----------+\n",
            "|nome_do_socio_ou_razao_social|faixa_etaria|ano_entrada|\n",
            "+-----------------------------+------------+-----------+\n",
            "|              ROBERTA BENELLI|           4|       2021|\n",
            "|         JOSE ALCEU DO ROS...|           5|       2021|\n",
            "|          JOSE HUMBERTO PAIVA|           6|       2021|\n",
            "|              MARCELO MOCELIN|           5|       2021|\n",
            "|         EDUARDO DE ANDRAD...|           5|       2021|\n",
            "+-----------------------------+------------+-----------+\n",
            "\n"
          ]
        }
      ]
    },
    {
      "cell_type": "markdown",
      "source": [
        "## Where onde string 'começa com\""
      ],
      "metadata": {
        "id": "prNyYS1qZAM0"
      }
    },
    {
      "cell_type": "code",
      "source": [
        "socios\\\n",
        "    .where(socios.nome_do_socio_ou_razao_social.startswith(\"JUAN\"))\\\n",
        "    .show(5, truncate=False)"
      ],
      "metadata": {
        "colab": {
          "base_uri": "https://localhost:8080/"
        },
        "id": "3anrKAmLWZd1",
        "outputId": "045c6bcd-e5d8-4565-d81c-594e234c624a"
      },
      "execution_count": 68,
      "outputs": [
        {
          "output_type": "stream",
          "name": "stdout",
          "text": [
            "+-----------+----------------------+------------------------------------+--------------------+---------------------+-------------------------+----+-------------------+---------------------+-----------------------------------+------------+\n",
            "|cnpj_basico|identificador_de_socio|nome_do_socio_ou_razao_social       |cnpj_ou_cpf_do_socio|qualificacao_do_socio|data_de_entrada_sociedade|pais|representante_legal|nome_do_representante|qualificacao_do_representante_legal|faixa_etaria|\n",
            "+-----------+----------------------+------------------------------------+--------------------+---------------------+-------------------------+----+-------------------+---------------------+-----------------------------------+------------+\n",
            "|7209603    |2                     |JUAN CARLOS MUNIZ RIVAS             |***260902**         |22                   |2005-02-10               |NULL|***000000**        |NULL                 |0                                  |6           |\n",
            "|10207150   |2                     |JUAN CARLOS PATRICIO CHAVEZ ZEBALLOS|***582288**         |49                   |2010-10-01               |NULL|***000000**        |NULL                 |0                                  |7           |\n",
            "|39130620   |2                     |JUAN RODRIGUEZ MOSQUERA             |***987977**         |49                   |1990-11-20               |NULL|***000000**        |NULL                 |0                                  |7           |\n",
            "|57330961   |2                     |JUAN PABLO FERNANDEZ FIGUEROA       |***577386**         |49                   |1987-04-14               |NULL|***000000**        |NULL                 |0                                  |7           |\n",
            "|3049453    |2                     |JUAN CARLO DAY                      |***985049**         |49                   |1999-03-23               |NULL|***000000**        |NULL                 |0                                  |6           |\n",
            "+-----------+----------------------+------------------------------------+--------------------+---------------------+-------------------------+----+-------------------+---------------------+-----------------------------------+------------+\n",
            "only showing top 5 rows\n",
            "\n"
          ]
        }
      ]
    },
    {
      "cell_type": "markdown",
      "source": [
        "## SQL LIKE"
      ],
      "metadata": {
        "id": "cgi_FGBmaVvX"
      }
    },
    {
      "cell_type": "code",
      "source": [
        "socios\\\n",
        "    .where(socios.nome_do_socio_ou_razao_social.like(\"%OLIVEIRA%\"))\\\n",
        "    .show(5, truncate=False)"
      ],
      "metadata": {
        "colab": {
          "base_uri": "https://localhost:8080/"
        },
        "id": "H7JL5f0ZYbAO",
        "outputId": "cad4d3df-8419-47a2-afb7-7cd2f7aab54d"
      },
      "execution_count": 69,
      "outputs": [
        {
          "output_type": "stream",
          "name": "stdout",
          "text": [
            "+-----------+----------------------+----------------------------------+--------------------+---------------------+-------------------------+----+-------------------+---------------------+-----------------------------------+------------+\n",
            "|cnpj_basico|identificador_de_socio|nome_do_socio_ou_razao_social     |cnpj_ou_cpf_do_socio|qualificacao_do_socio|data_de_entrada_sociedade|pais|representante_legal|nome_do_representante|qualificacao_do_representante_legal|faixa_etaria|\n",
            "+-----------+----------------------+----------------------------------+--------------------+---------------------+-------------------------+----+-------------------+---------------------+-----------------------------------+------------+\n",
            "|323498     |2                     |ANA MARIA DE OLIVEIRA             |***786738**         |49                   |1994-11-24               |NULL|***000000**        |NULL                 |0                                  |6           |\n",
            "|323498     |2                     |SONIA DE OLIVEIRA                 |***812128**         |49                   |1996-01-15               |NULL|***000000**        |NULL                 |0                                  |6           |\n",
            "|343579     |2                     |EVERALDO DOMINGUES DE OLIVEIRA    |***220249**         |22                   |1994-12-01               |NULL|***000000**        |NULL                 |0                                  |5           |\n",
            "|391662     |2                     |EGIDIO DE OLIVEIRA FILHO          |***823076**         |49                   |1995-01-09               |NULL|***000000**        |NULL                 |0                                  |7           |\n",
            "|391662     |2                     |MARIA APARECIDA DI MAMBRO OLIVEIRA|***547726**         |49                   |1998-10-27               |NULL|***000000**        |NULL                 |0                                  |7           |\n",
            "+-----------+----------------------+----------------------------------+--------------------+---------------------+-------------------------+----+-------------------+---------------------+-----------------------------------+------------+\n",
            "only showing top 5 rows\n",
            "\n"
          ]
        }
      ]
    },
    {
      "cell_type": "code",
      "source": [
        "socios.show(5)"
      ],
      "metadata": {
        "colab": {
          "base_uri": "https://localhost:8080/"
        },
        "id": "0DtKe7m1fVfp",
        "outputId": "ff83730e-e9b6-49d4-f776-5164bfae7ee4"
      },
      "execution_count": 70,
      "outputs": [
        {
          "output_type": "stream",
          "name": "stdout",
          "text": [
            "+-----------+----------------------+-----------------------------+--------------------+---------------------+-------------------------+----+-------------------+---------------------+-----------------------------------+------------+\n",
            "|cnpj_basico|identificador_de_socio|nome_do_socio_ou_razao_social|cnpj_ou_cpf_do_socio|qualificacao_do_socio|data_de_entrada_sociedade|pais|representante_legal|nome_do_representante|qualificacao_do_representante_legal|faixa_etaria|\n",
            "+-----------+----------------------+-----------------------------+--------------------+---------------------+-------------------------+----+-------------------+---------------------+-----------------------------------+------------+\n",
            "|        411|                     2|         LILIANA PATRICIA ...|         ***678188**|                   22|               1994-07-25|NULL|        ***000000**|                 NULL|                                  0|           7|\n",
            "|        411|                     2|         CRISTINA HUNDERTMARK|         ***637848**|                   28|               1994-07-25|NULL|        ***000000**|                 NULL|                                  0|           7|\n",
            "|       5813|                     2|         CELSO EDUARDO DE ...|         ***786068**|                   49|               1994-05-16|NULL|        ***000000**|                 NULL|                                  0|           8|\n",
            "|       5813|                     2|         EDUARDO BERRINGER...|         ***442348**|                   49|               1994-05-16|NULL|        ***000000**|                 NULL|                                  0|           5|\n",
            "|      14798|                     2|          HANNE MAHFOUD FADEL|         ***760388**|                   49|               1994-06-09|NULL|        ***000000**|                 NULL|                                  0|           8|\n",
            "+-----------+----------------------+-----------------------------+--------------------+---------------------+-------------------------+----+-------------------+---------------------+-----------------------------------+------------+\n",
            "only showing top 5 rows\n",
            "\n"
          ]
        }
      ]
    },
    {
      "cell_type": "markdown",
      "source": [
        "## GroupBy and Aggregation functions"
      ],
      "metadata": {
        "id": "l-aGBS9AffoE"
      }
    },
    {
      "cell_type": "code",
      "source": [
        "socios\\\n",
        "    .select(f.year(\"data_de_entrada_sociedade\").alias(\"ano_entrada\"))\\\n",
        "    .where(\"ano_entrada >= 2010\")\\\n",
        "    .groupBy(\"ano_entrada\")\\\n",
        "    .count()\\\n",
        "    .orderBy(\"ano_entrada\", ascending=True)\\\n",
        "    .show(5)"
      ],
      "metadata": {
        "id": "37Ajfk5haNYj",
        "colab": {
          "base_uri": "https://localhost:8080/"
        },
        "outputId": "f7bf5601-a83f-4d4d-a1e5-cfb72a54c013"
      },
      "execution_count": 71,
      "outputs": [
        {
          "output_type": "stream",
          "name": "stdout",
          "text": [
            "+-----------+-----+\n",
            "|ano_entrada|count|\n",
            "+-----------+-----+\n",
            "|       2010|79337|\n",
            "|       2011|83906|\n",
            "|       2012|80101|\n",
            "|       2013|83919|\n",
            "|       2014|80590|\n",
            "+-----------+-----+\n",
            "only showing top 5 rows\n",
            "\n"
          ]
        }
      ]
    },
    {
      "cell_type": "markdown",
      "source": [
        "## Multiple aggregation functions"
      ],
      "metadata": {
        "id": "5cz9bhNCgP4-"
      }
    },
    {
      "cell_type": "code",
      "source": [
        "empresas\\\n",
        "    .select(\"cnpj_basico\", \"porte_da_empresa\", \"capital_social_da_empresa\")\\\n",
        "    .groupBy(\"porte_da_empresa\")\\\n",
        "    .agg(\n",
        "        f.avg(\"capital_social_da_empresa\").alias(\"capital_social_medio\"),\n",
        "        f.count(\"cnpj_basico\").alias(\"Qtd_empresas_por_porte\")\n",
        "    )\\\n",
        "    .orderBy(\"porte_da_empresa\", ascending=True)\\\n",
        "    .show(10)"
      ],
      "metadata": {
        "colab": {
          "base_uri": "https://localhost:8080/"
        },
        "id": "2IDFMRcLfG1q",
        "outputId": "8c9f6a3e-90c5-4eed-f8a2-681a5d3b5cea"
      },
      "execution_count": 72,
      "outputs": [
        {
          "output_type": "stream",
          "name": "stdout",
          "text": [
            "+----------------+--------------------+----------------------+\n",
            "|porte_da_empresa|capital_social_medio|Qtd_empresas_por_porte|\n",
            "+----------------+--------------------+----------------------+\n",
            "|            NULL|    8.35421888053467|                  5985|\n",
            "|               1|  339994.53313506936|               3129043|\n",
            "|               3|  2601001.7677092673|                115151|\n",
            "|               5|   708660.4208249798|               1335500|\n",
            "+----------------+--------------------+----------------------+\n",
            "\n"
          ]
        }
      ]
    },
    {
      "cell_type": "markdown",
      "source": [
        "## Describe on Spark"
      ],
      "metadata": {
        "id": "4ReUnXZVg_mC"
      }
    },
    {
      "cell_type": "code",
      "source": [
        "empresas\\\n",
        "    .select(\"capital_social_da_empresa\")\\\n",
        "    .summary(\"mean\", \"max\")\\\n",
        "    .show()"
      ],
      "metadata": {
        "colab": {
          "base_uri": "https://localhost:8080/"
        },
        "id": "wKXS5bUuftOY",
        "outputId": "3b89022c-f8c4-43c8-c4bd-4d50f84e5d6c"
      },
      "execution_count": 73,
      "outputs": [
        {
          "output_type": "stream",
          "name": "stdout",
          "text": [
            "+-------+-------------------------+\n",
            "|summary|capital_social_da_empresa|\n",
            "+-------+-------------------------+\n",
            "|   mean|        503694.5478542675|\n",
            "|    max|         3.22014670262E11|\n",
            "+-------+-------------------------+\n",
            "\n"
          ]
        }
      ]
    },
    {
      "cell_type": "code",
      "source": [
        "socios\\\n",
        "    .select(\"faixa_etaria\")\\\n",
        "    .summary(\"mean\")\\\n",
        "    .show()"
      ],
      "metadata": {
        "colab": {
          "base_uri": "https://localhost:8080/"
        },
        "id": "NKxjFZYWhFMn",
        "outputId": "46d0387b-623f-41c3-ba94-2570108db822"
      },
      "execution_count": 74,
      "outputs": [
        {
          "output_type": "stream",
          "name": "stdout",
          "text": [
            "+-------+-----------------+\n",
            "|summary|     faixa_etaria|\n",
            "+-------+-----------------+\n",
            "|   mean|5.396815918453111|\n",
            "+-------+-----------------+\n",
            "\n"
          ]
        }
      ]
    },
    {
      "cell_type": "markdown",
      "source": [
        "## When and Otherwise"
      ],
      "metadata": {
        "id": "DvrTjsVGiPPf"
      }
    },
    {
      "cell_type": "code",
      "source": [
        "data = [\n",
        "    ('CARLOS', 'MATEMÁTICA', 7),\n",
        "    ('IVO', 'MATEMÁTICA', 9),\n",
        "    ('MÁRCIA', 'MATEMÁTICA', 8),\n",
        "    ('LEILA', 'MATEMÁTICA', 9),\n",
        "    ('BRENO', 'MATEMÁTICA', 7),\n",
        "    ('LETÍCIA', 'MATEMÁTICA', 8),\n",
        "    ('CARLOS', 'FÍSICA', 2),\n",
        "    ('IVO', 'FÍSICA', 8),\n",
        "    ('MÁRCIA', 'FÍSICA', 10),\n",
        "    ('LEILA', 'FÍSICA', 9),\n",
        "    ('BRENO', 'FÍSICA', 1),\n",
        "    ('LETÍCIA', 'FÍSICA', 6),\n",
        "    ('CARLOS', 'QUÍMICA', 10),\n",
        "    ('IVO', 'QUÍMICA', 8),\n",
        "    ('MÁRCIA', 'QUÍMICA', 1),\n",
        "    ('LEILA', 'QUÍMICA', 10),\n",
        "    ('BRENO', 'QUÍMICA', 7),\n",
        "    ('LETÍCIA', 'QUÍMICA', 9)\n",
        "]\n",
        "colNames = ['nome', 'materia', 'nota']\n",
        "df = spark.createDataFrame(data, colNames)"
      ],
      "metadata": {
        "id": "8960SF0kh5qp"
      },
      "execution_count": 75,
      "outputs": []
    },
    {
      "cell_type": "code",
      "source": [
        "df = df.withColumn(\"status\",\n",
        "                   f.when(df.nota >= 7, \"APROVADO\").otherwise(\"REPROVADO\"))"
      ],
      "metadata": {
        "id": "Yc-q4XFciSLT"
      },
      "execution_count": 76,
      "outputs": []
    },
    {
      "cell_type": "markdown",
      "source": [
        "## Queries sql"
      ],
      "metadata": {
        "id": "0ppc5LoBlAYB"
      }
    },
    {
      "cell_type": "code",
      "source": [
        "empresas.createOrReplaceTempView(\"empresasView\")\n",
        "\n",
        "spark.sql(\"\"\"\n",
        "\n",
        "    SELECT *\n",
        "    FROM empresasView\n",
        "    LIMIT 5;\n",
        "\"\"\").show()"
      ],
      "metadata": {
        "colab": {
          "base_uri": "https://localhost:8080/"
        },
        "id": "KFbokuYclBvf",
        "outputId": "d9a075ed-d31f-468e-8b1f-0fcbae9f00f6"
      },
      "execution_count": 77,
      "outputs": [
        {
          "output_type": "stream",
          "name": "stdout",
          "text": [
            "+-----------+-----------------------------+-----------------+---------------------------+-------------------------+----------------+---------------------------+\n",
            "|cnpj_basico|razao_social_nome_empresarial|natureza_juridica|qualificacao_do_responsavel|capital_social_da_empresa|porte_da_empresa|ente_federativo_responsavel|\n",
            "+-----------+-----------------------------+-----------------+---------------------------+-------------------------+----------------+---------------------------+\n",
            "|        306|         FRANCAMAR REFRIGE...|             2240|                         49|                      0.0|               1|                       NULL|\n",
            "|       1355|         BRASILEIRO & OLIV...|             2062|                         49|                      0.0|               5|                       NULL|\n",
            "|       4820|         REGISTRO DE IMOVE...|             3034|                         32|                      0.0|               5|                       NULL|\n",
            "|       5347|         ROSELY APARECIDA ...|             2135|                         50|                      0.0|               5|                       NULL|\n",
            "|       6846|         BADU E FILHOS TEC...|             2062|                         49|                   4000.0|               1|                       NULL|\n",
            "+-----------+-----------------------------+-----------------+---------------------------+-------------------------+----------------+---------------------------+\n",
            "\n"
          ]
        }
      ]
    },
    {
      "cell_type": "code",
      "source": [
        "## Saving spark df as CSV"
      ],
      "metadata": {
        "id": "nSOCcP8CtjND"
      },
      "execution_count": 80,
      "outputs": []
    },
    {
      "cell_type": "code",
      "source": [
        "socios.write.csv(\n",
        "    path=\"/content/drive/MyDrive/Colab Notebooks/Curso spark/socios/csv\",\n",
        "    mode=\"overwrite\",\n",
        "    sep=\";\",\n",
        "    header=True,\n",
        "\n",
        ")"
      ],
      "metadata": {
        "id": "Drg4t0vAlXMD"
      },
      "execution_count": 81,
      "outputs": []
    },
    {
      "cell_type": "code",
      "source": [
        "## Spark methods are more efficient with parquet"
      ],
      "metadata": {
        "id": "wGUkCJ9Quyht"
      },
      "execution_count": 86,
      "outputs": []
    },
    {
      "cell_type": "code",
      "source": [
        "empresas.write.parquet(\n",
        "    path=\"/content/drive/MyDrive/Colab Notebooks/Curso spark/empresas/parquet\",\n",
        "    mode=\"overwrite\",\n",
        ")"
      ],
      "metadata": {
        "id": "W5j7DmgZtlr8"
      },
      "execution_count": 85,
      "outputs": []
    },
    {
      "cell_type": "code",
      "source": [
        "empresas_csv = spark.read.csv(\n",
        "    \"/content/drive/MyDrive/Colab Notebooks/Curso spark/empresas/csv\",\n",
        "    sep=\";\",\n",
        "    header=True\n",
        "    )"
      ],
      "metadata": {
        "id": "tOTnnOaIt2N2"
      },
      "execution_count": 93,
      "outputs": []
    },
    {
      "cell_type": "code",
      "source": [
        "empresas_parquet = spark.read.parquet(\n",
        "    \"/content/drive/MyDrive/Colab Notebooks/Curso spark/empresas/parquet\"\n",
        "    )"
      ],
      "metadata": {
        "id": "ZP98zlCcvNHs"
      },
      "execution_count": 88,
      "outputs": []
    },
    {
      "cell_type": "code",
      "source": [
        "empresas_csv\\\n",
        "    .select(\"capital_social_da_empresa\")\\\n",
        "    .summary()\\\n",
        "    .show()"
      ],
      "metadata": {
        "colab": {
          "base_uri": "https://localhost:8080/"
        },
        "id": "u9YpT3yvvV9s",
        "outputId": "7fd533be-dbe7-4816-af50-c082ffccb804"
      },
      "execution_count": 99,
      "outputs": [
        {
          "output_type": "stream",
          "name": "stdout",
          "text": [
            "+-------+-------------------------+\n",
            "|summary|capital_social_da_empresa|\n",
            "+-------+-------------------------+\n",
            "|  count|                  4585679|\n",
            "|   mean|        503694.5478542675|\n",
            "| stddev|     2.1118691490537405E8|\n",
            "|    min|                      0.0|\n",
            "|    25%|                      0.0|\n",
            "|    50%|                   1000.0|\n",
            "|    75%|                   7000.0|\n",
            "|    max|                9999998.0|\n",
            "+-------+-------------------------+\n",
            "\n"
          ]
        }
      ]
    },
    {
      "cell_type": "code",
      "source": [
        "empresas_parquet\\\n",
        "    .select(\"capital_social_da_empresa\")\\\n",
        "    .summary()\\\n",
        "    .show()"
      ],
      "metadata": {
        "colab": {
          "base_uri": "https://localhost:8080/"
        },
        "id": "NUjZiEaPvbBM",
        "outputId": "b31bd2cc-dcb8-4f18-a38b-878ed28ecf97"
      },
      "execution_count": 100,
      "outputs": [
        {
          "output_type": "stream",
          "name": "stdout",
          "text": [
            "+-------+-------------------------+\n",
            "|summary|capital_social_da_empresa|\n",
            "+-------+-------------------------+\n",
            "|  count|                  4585679|\n",
            "|   mean|        503694.5478542675|\n",
            "| stddev|     2.1118691490537405E8|\n",
            "|    min|                      0.0|\n",
            "|    25%|                      0.0|\n",
            "|    50%|                   1000.0|\n",
            "|    75%|                   7000.0|\n",
            "|    max|         3.22014670262E11|\n",
            "+-------+-------------------------+\n",
            "\n"
          ]
        }
      ]
    },
    {
      "cell_type": "code",
      "source": [
        "spark.stop()"
      ],
      "metadata": {
        "id": "hVnZspsuv4tO"
      },
      "execution_count": 101,
      "outputs": []
    },
    {
      "cell_type": "code",
      "source": [],
      "metadata": {
        "id": "MoCAZVzEx1Iw"
      },
      "execution_count": null,
      "outputs": []
    }
  ]
}